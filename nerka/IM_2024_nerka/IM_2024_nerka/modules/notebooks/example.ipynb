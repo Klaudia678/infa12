{
 "cells": [
  {
   "cell_type": "code",
   "execution_count": 1,
   "id": "initial_id",
   "metadata": {
    "collapsed": true,
    "ExecuteTime": {
     "end_time": "2024-05-15T15:50:24.166191Z",
     "start_time": "2024-05-15T15:50:23.584186Z"
    }
   },
   "outputs": [],
   "source": [
    "import sys\n",
    "from modules.common.src.app_utils.Logger import get_logger\n",
    "import os\n",
    "from modules.common.src.app_utils.Reader import Reader\n",
    "from modules.common.src.visualization.visualization_3d import draw_graph, visualize_mask_bin\n",
    "\n",
    "os.chdir(r\"C:\\Users\\KlaudiaDyl\\Documents\\GitHub\\infa12\\nerka\\IM_2024_nerka\\IM_2024_nerka\") #TODO\n",
    "sys.path.append('.')"
   ]
  },
  {
   "cell_type": "code",
   "execution_count": null,
   "id": "4216619c36c563d7",
   "metadata": {
    "collapsed": false,
    "is_executing": true,
    "ExecuteTime": {
     "start_time": "2024-05-15T15:50:26.320580Z"
    }
   },
   "outputs": [
    {
     "name": "stderr",
     "output_type": "stream",
     "text": [
      "2024-05-15 17:50:26,324 — root — DEBUG — execution_tracer:40 — Function Reader.load_data started.\n",
      "2024-05-15 17:50:26,869 — root — DEBUG — execution_tracer:43 — Function Reader.load_data ended. Execution time: 0.544 s\n"
     ]
    }
   ],
   "source": [
    "dag = Reader('P01').load_data(Reader.DataStep.DAG_WITH_STATS_FILENAME)\n",
    "\n",
    "visualize_mask_bin(draw_graph(dag))"
   ]
  },
  {
   "cell_type": "code",
   "execution_count": 2,
   "id": "3041e88f6f9c7a04",
   "metadata": {
    "collapsed": false,
    "ExecuteTime": {
     "end_time": "2024-05-15T15:44:51.986373Z",
     "start_time": "2024-05-15T15:44:51.400486Z"
    }
   },
   "outputs": [
    {
     "name": "stderr",
     "output_type": "stream",
     "text": [
      "2024-05-15 17:44:51,403 — root — DEBUG — execution_tracer:40 — Function Reader.load_data started.\n",
      "2024-05-15 17:44:51,962 — root — DEBUG — execution_tracer:43 — Function Reader.load_data ended. Execution time: 0.558 s\n",
      "2024-05-15 17:44:51,968 — root — DEBUG — <module>:5 — EdgeData(relative_angle=None, length=5.796462054430233, thickness=50.0, generation=1, end_to_end_length=5.830951894845301)\n",
      "2024-05-15 17:44:51,970 — root — DEBUG — <module>:6 — dict_keys(['voxels', 'thickness_list', 'mean_thickness', 'length', 'start_direction', 'end_direction', 'relative_angle', 'tortuosity', 'voxels2d', 'symmetry_divergence_angle', 'distance_from_root', 'scaled_distance_from_root', 'absolute_distance', 'scaled_absolute_distance', 'centroid', 'interstitial_distance'])\n",
      "2024-05-15 17:44:51,983 — root — DEBUG — <module>:9 — 24.97448524542441\n"
     ]
    }
   ],
   "source": [
    "import numpy as np\n",
    "\n",
    "dag = Reader('P01').load_data(Reader.DataStep.DAG_WITH_STATS_FILENAME)\n",
    "\n",
    "get_logger().debug(dag.edges[0].edge_data)\n",
    "get_logger().debug(dag.edges[0].data.keys())\n",
    "\n",
    "lengths = [x['length'] for x in dag.edges]\n",
    "get_logger().debug(np.mean(lengths))"
   ]
  },
  {
   "cell_type": "code",
   "execution_count": null,
   "id": "5ed209aff0eaa669",
   "metadata": {
    "collapsed": false
   },
   "outputs": [],
   "source": []
  },
  {
   "cell_type": "code",
   "execution_count": null,
   "id": "762b630f54245df8",
   "metadata": {
    "collapsed": false
   },
   "outputs": [],
   "source": []
  },
  {
   "cell_type": "code",
   "execution_count": null,
   "id": "ce643d2c2ead4a6e",
   "metadata": {
    "collapsed": false
   },
   "outputs": [],
   "source": []
  },
  {
   "cell_type": "code",
   "outputs": [],
   "source": [],
   "metadata": {
    "collapsed": false
   },
   "id": "7df763e136e5cbc3"
  },
  {
   "cell_type": "code",
   "outputs": [],
   "source": [],
   "metadata": {
    "collapsed": false
   },
   "id": "2af98b2418b149e9"
  },
  {
   "cell_type": "code",
   "outputs": [],
   "source": [],
   "metadata": {
    "collapsed": false
   },
   "id": "131e4c117cde65de"
  }
 ],
 "metadata": {
  "kernelspec": {
   "display_name": "Python 3",
   "language": "python",
   "name": "python3"
  },
  "language_info": {
   "codemirror_mode": {
    "name": "ipython",
    "version": 3
   },
   "file_extension": ".py",
   "mimetype": "text/x-python",
   "name": "python",
   "nbconvert_exporter": "python",
   "pygments_lexer": "ipython3",
   "version": "3.11.9"
  }
 },
 "nbformat": 4,
 "nbformat_minor": 5
}
