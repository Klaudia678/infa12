{
 "cells": [
  {
   "cell_type": "code",
   "execution_count": 4,
   "id": "initial_id",
   "metadata": {
    "collapsed": true,
    "ExecuteTime": {
     "end_time": "2024-05-15T16:21:52.117222Z",
     "start_time": "2024-05-15T16:21:52.112835Z"
    }
   },
   "outputs": [],
   "source": [
    "import sys\n",
    "from modules.common.src.app_utils.Logger import get_logger\n",
    "import os\n",
    "from modules.common.src.app_utils.Reader import Reader\n",
    "from modules.common.src.visualization.visualization_3d import draw_graph, visualize_mask_bin\n",
    "import numpy as np\n",
    "\n",
    "os.chdir(r\"C:\\Users\\KlaudiaDyl\\Documents\\GitHub\\infa12\\nerka\\IM_2024_nerka\\IM_2024_nerka\") #TODO\n",
    "sys.path.append('.')"
   ]
  },
  {
   "cell_type": "code",
   "outputs": [],
   "source": [],
   "metadata": {
    "collapsed": false
   },
   "id": "3e6ceb2da93e874c"
  },
  {
   "cell_type": "code",
   "execution_count": null,
   "id": "4216619c36c563d7",
   "metadata": {
    "collapsed": false,
    "is_executing": true,
    "ExecuteTime": {
     "start_time": "2024-05-15T16:21:54.583214Z"
    }
   },
   "outputs": [
    {
     "name": "stderr",
     "output_type": "stream",
     "text": [
      "2024-05-15 18:21:54,587 — root — DEBUG — execution_tracer:40 — Function Reader.load_data started.\n",
      "2024-05-15 18:21:55,212 — root — DEBUG — execution_tracer:43 — Function Reader.load_data ended. Execution time: 0.624 s\n",
      "2024-05-15 18:21:55,213 — root — DEBUG — <module>:8 — EdgeData(relative_angle=None, length=5.796462054430233, thickness=50.0, generation=1, end_to_end_length=5.830951894845301)\n",
      "2024-05-15 18:21:55,214 — root — DEBUG — <module>:9 — dict_keys(['voxels', 'thickness_list', 'mean_thickness', 'length', 'start_direction', 'end_direction', 'relative_angle', 'tortuosity', 'voxels2d', 'symmetry_divergence_angle', 'distance_from_root', 'scaled_distance_from_root', 'absolute_distance', 'scaled_absolute_distance', 'centroid', 'interstitial_distance'])\n",
      "2024-05-15 18:21:55,222 — root — DEBUG — <module>:12 — 24.97448524542441\n",
      "2024-05-15 18:22:46,889 — root — DEBUG — execution_tracer:40 — Function Reader.load_data started.\n",
      "2024-05-15 18:22:47,130 — root — DEBUG — execution_tracer:43 — Function Reader.load_data ended. Execution time: 0.239 s\n",
      "2024-05-15 18:22:47,131 — root — DEBUG — <module>:8 — EdgeData(relative_angle=None, length=5.841619252963779, thickness=45.75, generation=1, end_to_end_length=5.477225575051661)\n",
      "2024-05-15 18:22:47,132 — root — DEBUG — <module>:9 — dict_keys(['voxels', 'thickness_list', 'mean_thickness', 'length', 'start_direction', 'end_direction', 'relative_angle', 'tortuosity', 'voxels2d', 'symmetry_divergence_angle', 'distance_from_root', 'scaled_distance_from_root', 'absolute_distance', 'scaled_absolute_distance', 'centroid', 'interstitial_distance'])\n",
      "2024-05-15 18:22:47,137 — root — DEBUG — <module>:12 — 25.753351830748112\n",
      "2024-05-15 18:23:39,536 — root — DEBUG — execution_tracer:40 — Function Reader.load_data started.\n",
      "2024-05-15 18:23:39,711 — root — DEBUG — execution_tracer:43 — Function Reader.load_data ended. Execution time: 0.174 s\n",
      "2024-05-15 18:23:39,713 — root — DEBUG — <module>:8 — EdgeData(relative_angle=None, length=6.2282170144463525, thickness=28.0, generation=1, end_to_end_length=5.0)\n",
      "2024-05-15 18:23:39,715 — root — DEBUG — <module>:9 — dict_keys(['voxels', 'thickness_list', 'mean_thickness', 'length', 'start_direction', 'end_direction', 'relative_angle', 'tortuosity', 'voxels2d', 'symmetry_divergence_angle', 'distance_from_root', 'scaled_distance_from_root', 'absolute_distance', 'scaled_absolute_distance', 'centroid', 'interstitial_distance'])\n",
      "2024-05-15 18:23:39,719 — root — DEBUG — <module>:12 — 27.93216426222992\n",
      "2024-05-15 18:40:19,172 — root — DEBUG — execution_tracer:40 — Function Reader.load_data started.\n",
      "2024-05-15 18:40:21,365 — root — DEBUG — execution_tracer:43 — Function Reader.load_data ended. Execution time: 2.131 s\n",
      "2024-05-15 18:40:21,367 — root — DEBUG — <module>:8 — EdgeData(relative_angle=None, length=8.119982445315975, thickness=24.0, generation=1, end_to_end_length=8.06225774829855)\n",
      "2024-05-15 18:40:21,370 — root — DEBUG — <module>:9 — dict_keys(['voxels', 'thickness_list', 'mean_thickness', 'length', 'start_direction', 'end_direction', 'relative_angle', 'tortuosity', 'voxels2d', 'symmetry_divergence_angle', 'distance_from_root', 'scaled_distance_from_root', 'absolute_distance', 'scaled_absolute_distance', 'centroid', 'interstitial_distance'])\n",
      "2024-05-15 18:40:21,382 — root — DEBUG — <module>:12 — 24.521942663836047\n",
      "2024-05-15 18:40:39,613 — root — DEBUG — execution_tracer:40 — Function Reader.load_data started.\n",
      "2024-05-15 18:40:40,327 — root — DEBUG — execution_tracer:43 — Function Reader.load_data ended. Execution time: 0.713 s\n",
      "2024-05-15 18:40:40,329 — root — DEBUG — <module>:8 — EdgeData(relative_angle=None, length=10.293980333537384, thickness=50.0, generation=1, end_to_end_length=9.486832980505138)\n",
      "2024-05-15 18:40:40,331 — root — DEBUG — <module>:9 — dict_keys(['voxels', 'thickness_list', 'mean_thickness', 'length', 'start_direction', 'end_direction', 'relative_angle', 'tortuosity', 'voxels2d', 'symmetry_divergence_angle', 'distance_from_root', 'scaled_distance_from_root', 'absolute_distance', 'scaled_absolute_distance', 'centroid', 'interstitial_distance'])\n",
      "2024-05-15 18:40:40,340 — root — DEBUG — <module>:12 — 22.525539062875843\n",
      "2024-05-15 18:42:29,208 — root — DEBUG — execution_tracer:40 — Function Reader.load_data started.\n",
      "2024-05-15 18:42:29,583 — root — DEBUG — execution_tracer:43 — Function Reader.load_data ended. Execution time: 0.344 s\n",
      "2024-05-15 18:42:29,588 — root — DEBUG — <module>:8 — EdgeData(relative_angle=None, length=12.558427457519038, thickness=42.666666666666664, generation=1, end_to_end_length=12.24744871391589)\n",
      "2024-05-15 18:42:29,591 — root — DEBUG — <module>:9 — dict_keys(['voxels', 'thickness_list', 'mean_thickness', 'length', 'start_direction', 'end_direction', 'relative_angle', 'tortuosity', 'voxels2d', 'symmetry_divergence_angle', 'distance_from_root', 'scaled_distance_from_root', 'absolute_distance', 'scaled_absolute_distance', 'centroid', 'interstitial_distance'])\n",
      "2024-05-15 18:42:29,603 — root — DEBUG — <module>:12 — 25.212209867465152\n"
     ]
    }
   ],
   "source": [
    "for i in range(1, 34):\n",
    "    if i < 10:\n",
    "        i = '0' + str(i)\n",
    "    else:\n",
    "        i = str(i)\n",
    "    dag = Reader(f'P{i}').load_data(Reader.DataStep.DAG_WITH_STATS_FILENAME)\n",
    "    \n",
    "    \n",
    "    get_logger().debug(dag.edges[0].edge_data)\n",
    "    get_logger().debug(dag.edges[0].data.keys())\n",
    "    \n",
    "    lengths = [x['length'] for x in dag.edges]\n",
    "    get_logger().debug(np.mean(lengths))\n",
    "    \n",
    "    visualize_mask_bin(draw_graph(dag))"
   ]
  },
  {
   "cell_type": "code",
   "execution_count": null,
   "id": "3041e88f6f9c7a04",
   "metadata": {
    "collapsed": false,
    "ExecuteTime": {
     "start_time": "2024-05-15T16:12:37.647844Z"
    }
   },
   "outputs": [],
   "source": [
    "\n",
    "\n",
    "dag = Reader('P01').load_data(Reader.DataStep.DAG_WITH_STATS_FILENAME)\n",
    "\n",
    "get_logger().debug(dag.edges[0].edge_data)\n",
    "get_logger().debug(dag.edges[0].data.keys())\n",
    "\n",
    "lengths = [x['length'] for x in dag.edges]\n",
    "get_logger().debug(np.mean(lengths))"
   ]
  },
  {
   "cell_type": "code",
   "execution_count": null,
   "id": "5ed209aff0eaa669",
   "metadata": {
    "collapsed": false,
    "ExecuteTime": {
     "start_time": "2024-05-15T16:12:37.649470Z"
    }
   },
   "outputs": [],
   "source": []
  },
  {
   "cell_type": "code",
   "execution_count": null,
   "id": "762b630f54245df8",
   "metadata": {
    "collapsed": false,
    "ExecuteTime": {
     "start_time": "2024-05-15T16:12:37.650507Z"
    }
   },
   "outputs": [],
   "source": []
  },
  {
   "cell_type": "code",
   "execution_count": null,
   "id": "ce643d2c2ead4a6e",
   "metadata": {
    "collapsed": false,
    "ExecuteTime": {
     "start_time": "2024-05-15T16:12:37.652501Z"
    }
   },
   "outputs": [],
   "source": []
  },
  {
   "cell_type": "code",
   "outputs": [],
   "source": [],
   "metadata": {
    "collapsed": false,
    "ExecuteTime": {
     "start_time": "2024-05-15T16:12:37.653499Z"
    }
   },
   "id": "7df763e136e5cbc3"
  },
  {
   "cell_type": "code",
   "outputs": [],
   "source": [],
   "metadata": {
    "collapsed": false
   },
   "id": "2af98b2418b149e9"
  },
  {
   "cell_type": "code",
   "outputs": [],
   "source": [],
   "metadata": {
    "collapsed": false,
    "ExecuteTime": {
     "start_time": "2024-05-15T16:12:37.657287Z"
    }
   },
   "id": "131e4c117cde65de"
  }
 ],
 "metadata": {
  "kernelspec": {
   "display_name": "Python 3",
   "language": "python",
   "name": "python3"
  },
  "language_info": {
   "codemirror_mode": {
    "name": "ipython",
    "version": 3
   },
   "file_extension": ".py",
   "mimetype": "text/x-python",
   "name": "python",
   "nbconvert_exporter": "python",
   "pygments_lexer": "ipython3",
   "version": "3.11.9"
  }
 },
 "nbformat": 4,
 "nbformat_minor": 5
}
